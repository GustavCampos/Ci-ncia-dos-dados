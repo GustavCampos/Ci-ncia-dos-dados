{
 "cells": [
  {
   "cell_type": "code",
   "execution_count": 1,
   "metadata": {},
   "outputs": [],
   "source": [
    "#Imports\n",
    "import pandas as pd\n",
    "import numpy as np"
   ]
  },
  {
   "cell_type": "code",
   "execution_count": 2,
   "metadata": {},
   "outputs": [],
   "source": [
    "#Criando dataframe com os dados\n",
    "classes = [[6, 12], [12, 18], [18, 24], [24, 30], [30, 36], [36, 42], [42, 48], [48, 54], [52, 60]]\n",
    "fi = [5, 16, 15, 11, 9, 8, 4, 5, 2]\n",
    "xi = [9, 15, 21, 27, 33, 39, 45, 51, 57]\n",
    "fa = [5, 21, 36, 47, 56, 64, 68, 73, 75]\n",
    "fr_p = [7, 21, 20, 15, 12, 11, 5, 7, 3]\n",
    "\n",
    "\n",
    "consumo_de_agua = pd.DataFrame({\n",
    "    \"classes\": classes,\n",
    "    \"fi\": fi,\n",
    "    \"xi\": xi,\n",
    "    \"fa\": fa,\n",
    "    \"fr%\": fr_p\n",
    "})"
   ]
  },
  {
   "cell_type": "code",
   "execution_count": 3,
   "metadata": {},
   "outputs": [
    {
     "name": "stdout",
     "output_type": "stream",
     "text": [
      "Média: 27.4\n"
     ]
    }
   ],
   "source": [
    "#Calculando média\n",
    "fi_xi = consumo_de_agua[\"fi\"] * consumo_de_agua[\"xi\"]\n",
    "\n",
    "numero_registros = sum(consumo_de_agua['fi']) #Soma de todas as frequencias\n",
    "\n",
    "media = sum(fi_xi) / numero_registros\n",
    "\n",
    "print(f\"Média: {media}\")"
   ]
  },
  {
   "cell_type": "code",
   "execution_count": 11,
   "metadata": {},
   "outputs": [
    {
     "name": "stdout",
     "output_type": "stream",
     "text": [
      "Posição da mediana: 38.0\n",
      "Classe mediana: [24, 30]\n",
      "Amplitude de classe: 6\n",
      "Mediana: 25.09090909090909\n"
     ]
    }
   ],
   "source": [
    "#Calculando mediana\n",
    "posicao_mediana = (numero_registros + 1) / 2\n",
    "\n",
    "print(f\"Posição da mediana: {posicao_mediana}\")\n",
    "\n",
    "#Encontrar o índice da classe que contém a posição da mediana\n",
    "classe_mediana_index = consumo_de_agua[consumo_de_agua[\"fa\"] >= posicao_mediana].index[0]\n",
    "classe_mediana = consumo_de_agua['classes'][classe_mediana_index]\n",
    "\n",
    "print(f'Classe mediana: {classe_mediana}')\n",
    "\n",
    "amplitude_classe = consumo_de_agua['classes'][0][1] - consumo_de_agua['classes'][0][0]\n",
    "\n",
    "print(f\"Amplitude de classe: {amplitude_classe}\")\n",
    "\n",
    "#Aplicando fórmula\n",
    "mediana = (posicao_mediana - consumo_de_agua[\"fa\"][classe_mediana_index - 1]) * amplitude_classe\n",
    "mediana /= consumo_de_agua['fi'][classe_mediana_index]\n",
    "mediana += classe_mediana[0] #Limite inferior da classe mediana\n",
    "\n",
    "print(f\"Mediana: {mediana}\")"
   ]
  },
  {
   "cell_type": "code",
   "execution_count": 20,
   "metadata": {},
   "outputs": [
    {
     "name": "stdout",
     "output_type": "stream",
     "text": [
      "d1: 11\n",
      "d2: 1\n",
      "Moda: 17.5\n"
     ]
    }
   ],
   "source": [
    "#Calculando moda\n",
    "classe_modal_index = 1 #Segunda classe possui maior fi\n",
    "\n",
    "d1 = consumo_de_agua['fi'][classe_modal_index] - consumo_de_agua['fi'][classe_modal_index - 1]\n",
    "d2 = consumo_de_agua['fi'][classe_modal_index] - consumo_de_agua['fi'][classe_modal_index + 1]\n",
    "\n",
    "limite_inferior_classe_modal = consumo_de_agua[\"classes\"][classe_modal_index][0]\n",
    "\n",
    "print(f\"d1: {d1}\")\n",
    "print(f\"d2: {d2}\")\n",
    "\n",
    "moda = ((d1 / (d1 + d2)) * amplitude_classe) + limite_inferior_classe_modal\n",
    "\n",
    "print(f\"Moda: {moda}\")"
   ]
  },
  {
   "cell_type": "code",
   "execution_count": 21,
   "metadata": {},
   "outputs": [
    {
     "name": "stdout",
     "output_type": "stream",
     "text": [
      "Variância: 158.72000000000014\n"
     ]
    }
   ],
   "source": [
    "#Calculando Variância\n",
    "somatorio_para_variancia = 68211 #Disponibilizado na tabela\n",
    "\n",
    "variancia = (somatorio_para_variancia / numero_registros) - (media ** 2)\n",
    "\n",
    "print(f\"Variância: {variancia}\")"
   ]
  },
  {
   "cell_type": "code",
   "execution_count": 22,
   "metadata": {},
   "outputs": [
    {
     "name": "stdout",
     "output_type": "stream",
     "text": [
      "Desvio padrão: 12.598412598418903\n"
     ]
    }
   ],
   "source": [
    "#Calculando desvio padrão\n",
    "desvio_padrao = np.sqrt(variancia)\n",
    "\n",
    "print(f\"Desvio padrão: {desvio_padrao}\")"
   ]
  },
  {
   "cell_type": "code",
   "execution_count": 23,
   "metadata": {},
   "outputs": [
    {
     "name": "stdout",
     "output_type": "stream",
     "text": [
      "Coeficiente de variação: 45.97960802342666\n"
     ]
    }
   ],
   "source": [
    "#Coeficiente de variação\n",
    "coeficiente_variacao = (desvio_padrao / media) * 100\n",
    "\n",
    "print(f\"Coeficiente de variação: {coeficiente_variacao}\") "
   ]
  }
 ],
 "metadata": {
  "kernelspec": {
   "display_name": ".venv",
   "language": "python",
   "name": "python3"
  },
  "language_info": {
   "codemirror_mode": {
    "name": "ipython",
    "version": 3
   },
   "file_extension": ".py",
   "mimetype": "text/x-python",
   "name": "python",
   "nbconvert_exporter": "python",
   "pygments_lexer": "ipython3",
   "version": "3.10.12"
  }
 },
 "nbformat": 4,
 "nbformat_minor": 2
}
